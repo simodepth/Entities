{
  "nbformat": 4,
  "nbformat_minor": 0,
  "metadata": {
    "colab": {
      "name": "NLP & NLU to Identify Entities and Sentiment from a PLP",
      "provenance": [],
      "collapsed_sections": [],
      "include_colab_link": true
    },
    "kernelspec": {
      "name": "python3",
      "display_name": "Python 3"
    },
    "language_info": {
      "name": "python"
    },
    "accelerator": "GPU"
  },
  "cells": [
    {
      "cell_type": "markdown",
      "metadata": {
        "id": "view-in-github",
        "colab_type": "text"
      },
      "source": [
        "<a href=\"https://colab.research.google.com/github/simodepth/Entities/blob/main/NLP_%26_NLU_to_Identify_Entities_and_Sentiment_from_a_PLP.ipynb\" target=\"_parent\"><img src=\"https://colab.research.google.com/assets/colab-badge.svg\" alt=\"Open In Colab\"/></a>"
      ]
    },
    {
      "cell_type": "markdown",
      "source": [
        "#How do search engine understand a search query?\n",
        "\n",
        "**NLP** (Natural Language Process) and **NLU** (Natural Language Understanding) are supervised machine learning models meaning they are being constantly trained using labelled data.\n",
        "\n",
        "They are the reason behind the search engine accuracy in returning correct and reliable search results from flawed queries (e.g  “**McConnahey**” → **McConnaughey**)\n",
        "\n",
        "#What is NLP?\n",
        "**NLP** focuses on understanding natural language in terms of patterns detected from a large proportion of unstructured data (AKA *entities*). To do that, NLP breaks and processes language  using a particular strategy called “**Tokenization**”, which aims to normalize a text by either breaking down patterns to their stem (e.g “carry”/”carries” → “carri”) or to an always recognizable pattern (e.g “carry”/”carries” → “carry”). Such granular techniques are called **Stemming** and **Lemmatization**.\n",
        "In \n",
        "\n",
        "#What is NLU?\n",
        "\n",
        "**NLU** focuses on understanding the meaning of a whole sentence to provide language comprehension. NLU enables computer programmes to deduce purpose from language, even if the written or spoken language is flawed. In fact the model is designed to complete sentiment analysis tasks and determine the emotional tone of a text.\n",
        "\n",
        "\n",
        "\n"
      ],
      "metadata": {
        "id": "oZrraUXRyZlW"
      }
    },
    {
      "cell_type": "markdown",
      "source": [
        "#NLP and NLU in this Python framework\n",
        "\n",
        "In the first part of the following script, NLP will be leveraged to tokenize a text from a chosen PLP and extract entities.\n",
        "\n",
        "In the second part, NLU will be used to carry out a handy sentiment analysis of the submitted PLP text"
      ],
      "metadata": {
        "id": "ipIFe6DrsLH9"
      }
    },
    {
      "cell_type": "markdown",
      "source": [
        "#Requirements and Assumptions\n",
        "- Run on Google Colab\n",
        "- Python 3 is installed \n",
        "- Google Cloud Platform account\n",
        "- [NLP API Enabled](https://cloud.google.com/natural-language/docs)\n",
        "- Credentials created (service account) and JSON file downloaded\n",
        "- NLP JSON key API needs to be uploaded **every time you run this script**\n",
        "\n",
        "\n",
        "\n"
      ],
      "metadata": {
        "id": "NAiITlZW0Qgv"
      }
    },
    {
      "cell_type": "code",
      "execution_count": null,
      "metadata": {
        "id": "7zJiDIrtreFn"
      },
      "outputs": [],
      "source": [
        "#@title Import Modules\n",
        "import os\n",
        "from google.cloud import language_v1\n",
        "from google.cloud.language_v1 import enums\n",
        "\n",
        "from google.cloud import language\n",
        "from google.cloud.language import types\n",
        "\n",
        "import numpy as np\n",
        "import matplotlib.pyplot as plt\n",
        "from matplotlib.pyplot import figure\n",
        "\n",
        "from nltk.stem import WordNetLemmatizer\n",
        "from nltk import word_tokenize,pos_tag"
      ]
    },
    {
      "cell_type": "code",
      "source": [
        "#@title Load up the JSON-LD key API \n",
        "os.environ['GOOGLE_APPLICATION_CREDENTIALS'] = \"/content/nlp-api-348917-9095c7f4e634.json\"\n"
      ],
      "metadata": {
        "id": "Y0blnfparuDm"
      },
      "execution_count": null,
      "outputs": []
    },
    {
      "cell_type": "code",
      "source": [
        "#@title Text Tokenization\n",
        "text = \"A roleplaying game that takes you into a far future beyond anything you have imagined, where fear is the mind-killer - so be sure to keep your wits about you! Take your characters on a journey through the storied worlds of Frank Herbert's sci-fi masterpiece as you navigate deadly duels, feudal politics and mysterious abilities.\"\n",
        "print(text)\n"
      ],
      "metadata": {
        "colab": {
          "base_uri": "https://localhost:8080/"
        },
        "id": "NFutDVsJ_7ox",
        "outputId": "1118544e-825c-439f-ece2-f4225523c584"
      },
      "execution_count": null,
      "outputs": [
        {
          "output_type": "stream",
          "name": "stdout",
          "text": [
            "A roleplaying game that takes you into a far future beyond anything you have imagined, where fear is the mind-killer - so be sure to keep your wits about you! Take your characters on a journey through the storied worlds of Frank Herbert's sci-fi masterpiece as you navigate deadly duels, feudal politics and mysterious abilities.\n"
          ]
        }
      ]
    },
    {
      "cell_type": "code",
      "source": [
        "#@title Stemming Words\n",
        "from nltk.stem import PorterStemmer\n",
        "porter = PorterStemmer()\n",
        "#create an object of class PorterStemmer\n",
        "porter = PorterStemmer()\n",
        "#A list of words to be stemmed\n",
        "word_list = ['In',\n",
        " 'a',\n",
        " 'Fastest',\n",
        " 'Thinker',\n",
        " 'First',\n",
        " 'Frenzy',\n",
        " 'players',\n",
        " 'take',\n",
        " 'turns',\n",
        " 'to',\n",
        " 'deal',\n",
        " 'their',\n",
        " 'playing',\n",
        " 'cards,',\n",
        " 'a',\n",
        " 'combination',\n",
        " 'of',\n",
        " 'Letter',\n",
        " 'Cards',\n",
        " 'and',\n",
        " 'Action',\n",
        " 'Cards,',\n",
        " 'down',\n",
        " 'on',\n",
        " 'three',\n",
        " 'piles',\n",
        " 'of',\n",
        " 'Letter',\n",
        " 'Cards'\n",
        " ]\n",
        "print(\"{0:20}{1:20}\".format(\"Word\",\"Porter Stemmer\"))\n",
        "for word in word_list:\n",
        "    print(\"{0:20}{1:20}\".format(word,porter.stem(word)))\n"
      ],
      "metadata": {
        "colab": {
          "base_uri": "https://localhost:8080/"
        },
        "id": "JUcjgK7xCFkE",
        "outputId": "e8fd7c78-94a3-4640-dd57-3a9cf7d2da79"
      },
      "execution_count": null,
      "outputs": [
        {
          "output_type": "stream",
          "name": "stdout",
          "text": [
            "Word                Porter Stemmer      \n",
            "In                  In                  \n",
            "a                   a                   \n",
            "Fastest             fastest             \n",
            "Thinker             thinker             \n",
            "First               first               \n",
            "Frenzy              frenzi              \n",
            "players             player              \n",
            "take                take                \n",
            "turns               turn                \n",
            "to                  to                  \n",
            "deal                deal                \n",
            "their               their               \n",
            "playing             play                \n",
            "cards,              cards,              \n",
            "a                   a                   \n",
            "combination         combin              \n",
            "of                  of                  \n",
            "Letter              letter              \n",
            "Cards               card                \n",
            "and                 and                 \n",
            "Action              action              \n",
            "Cards,              cards,              \n",
            "down                down                \n",
            "on                  on                  \n",
            "three               three               \n",
            "piles               pile                \n",
            "of                  of                  \n",
            "Letter              letter              \n",
            "Cards               card                \n"
          ]
        }
      ]
    },
    {
      "cell_type": "markdown",
      "source": [
        "📔 **Porter Stemming Algorithm** is the most popular among stemming algorithms as it’s been the benchmark for stemming since 1980"
      ],
      "metadata": {
        "id": "vqJDzVbaHUeZ"
      }
    },
    {
      "cell_type": "code",
      "source": [
        "#@title Extract Recognizable Words with Lemmatization\n",
        "# Install spaCy (run in terminal/prompt)\n",
        "import sys\n",
        "!{sys.executable} -m pip install spacy\n",
        "\n",
        "# Download spaCy's  'en' Model\n",
        "!{sys.executable} -m spacy download en\n",
        "\n",
        "import spacy\n",
        "\n",
        "# Initialize spacy 'en' model, keeping only tagger component needed for lemmatization\n",
        "nlp = spacy.load('en', disable=['parser', 'ner'])\n",
        "\n",
        "sentence = \"A sci-fi tabletop game where you assume the role of a member of Stargate Command. As an SG team member, you and your teammates will go on missions, guided by a Gatemaster, in the fight against the Goa'uld and other threats. The game is based on the D&D 5th Edition Open Gaming License\"\n",
        "# Parse the sentence using the loaded 'en' model object `nlp`\n",
        "doc = nlp(sentence)\n",
        "\n",
        "# Extract the lemma for each token and join\n",
        "\" \".join([token.lemma_ for token in doc])"
      ],
      "metadata": {
        "colab": {
          "base_uri": "https://localhost:8080/",
          "height": 957
        },
        "id": "_h_-hU2dNNA7",
        "outputId": "70fc3b87-ff48-48a4-d4e1-a8efc3df7407"
      },
      "execution_count": null,
      "outputs": [
        {
          "output_type": "stream",
          "name": "stdout",
          "text": [
            "Requirement already satisfied: spacy in /usr/local/lib/python3.7/dist-packages (2.2.4)\n",
            "Requirement already satisfied: thinc==7.4.0 in /usr/local/lib/python3.7/dist-packages (from spacy) (7.4.0)\n",
            "Requirement already satisfied: setuptools in /usr/local/lib/python3.7/dist-packages (from spacy) (57.4.0)\n",
            "Requirement already satisfied: plac<1.2.0,>=0.9.6 in /usr/local/lib/python3.7/dist-packages (from spacy) (1.1.3)\n",
            "Requirement already satisfied: srsly<1.1.0,>=1.0.2 in /usr/local/lib/python3.7/dist-packages (from spacy) (1.0.5)\n",
            "Requirement already satisfied: cymem<2.1.0,>=2.0.2 in /usr/local/lib/python3.7/dist-packages (from spacy) (2.0.6)\n",
            "Requirement already satisfied: requests<3.0.0,>=2.13.0 in /usr/local/lib/python3.7/dist-packages (from spacy) (2.23.0)\n",
            "Requirement already satisfied: preshed<3.1.0,>=3.0.2 in /usr/local/lib/python3.7/dist-packages (from spacy) (3.0.6)\n",
            "Requirement already satisfied: catalogue<1.1.0,>=0.0.7 in /usr/local/lib/python3.7/dist-packages (from spacy) (1.0.0)\n",
            "Requirement already satisfied: numpy>=1.15.0 in /usr/local/lib/python3.7/dist-packages (from spacy) (1.21.6)\n",
            "Requirement already satisfied: tqdm<5.0.0,>=4.38.0 in /usr/local/lib/python3.7/dist-packages (from spacy) (4.64.0)\n",
            "Requirement already satisfied: murmurhash<1.1.0,>=0.28.0 in /usr/local/lib/python3.7/dist-packages (from spacy) (1.0.7)\n",
            "Requirement already satisfied: wasabi<1.1.0,>=0.4.0 in /usr/local/lib/python3.7/dist-packages (from spacy) (0.9.1)\n",
            "Requirement already satisfied: blis<0.5.0,>=0.4.0 in /usr/local/lib/python3.7/dist-packages (from spacy) (0.4.1)\n",
            "Requirement already satisfied: importlib-metadata>=0.20 in /usr/local/lib/python3.7/dist-packages (from catalogue<1.1.0,>=0.0.7->spacy) (4.11.3)\n",
            "Requirement already satisfied: zipp>=0.5 in /usr/local/lib/python3.7/dist-packages (from importlib-metadata>=0.20->catalogue<1.1.0,>=0.0.7->spacy) (3.8.0)\n",
            "Requirement already satisfied: typing-extensions>=3.6.4 in /usr/local/lib/python3.7/dist-packages (from importlib-metadata>=0.20->catalogue<1.1.0,>=0.0.7->spacy) (4.2.0)\n",
            "Requirement already satisfied: urllib3!=1.25.0,!=1.25.1,<1.26,>=1.21.1 in /usr/local/lib/python3.7/dist-packages (from requests<3.0.0,>=2.13.0->spacy) (1.24.3)\n",
            "Requirement already satisfied: idna<3,>=2.5 in /usr/local/lib/python3.7/dist-packages (from requests<3.0.0,>=2.13.0->spacy) (2.10)\n",
            "Requirement already satisfied: chardet<4,>=3.0.2 in /usr/local/lib/python3.7/dist-packages (from requests<3.0.0,>=2.13.0->spacy) (3.0.4)\n",
            "Requirement already satisfied: certifi>=2017.4.17 in /usr/local/lib/python3.7/dist-packages (from requests<3.0.0,>=2.13.0->spacy) (2021.10.8)\n",
            "Collecting en_core_web_sm==2.2.5\n",
            "  Downloading https://github.com/explosion/spacy-models/releases/download/en_core_web_sm-2.2.5/en_core_web_sm-2.2.5.tar.gz (12.0 MB)\n",
            "\u001b[K     |████████████████████████████████| 12.0 MB 5.0 MB/s \n",
            "\u001b[?25hRequirement already satisfied: spacy>=2.2.2 in /usr/local/lib/python3.7/dist-packages (from en_core_web_sm==2.2.5) (2.2.4)\n",
            "Requirement already satisfied: setuptools in /usr/local/lib/python3.7/dist-packages (from spacy>=2.2.2->en_core_web_sm==2.2.5) (57.4.0)\n",
            "Requirement already satisfied: murmurhash<1.1.0,>=0.28.0 in /usr/local/lib/python3.7/dist-packages (from spacy>=2.2.2->en_core_web_sm==2.2.5) (1.0.7)\n",
            "Requirement already satisfied: cymem<2.1.0,>=2.0.2 in /usr/local/lib/python3.7/dist-packages (from spacy>=2.2.2->en_core_web_sm==2.2.5) (2.0.6)\n",
            "Requirement already satisfied: thinc==7.4.0 in /usr/local/lib/python3.7/dist-packages (from spacy>=2.2.2->en_core_web_sm==2.2.5) (7.4.0)\n",
            "Requirement already satisfied: requests<3.0.0,>=2.13.0 in /usr/local/lib/python3.7/dist-packages (from spacy>=2.2.2->en_core_web_sm==2.2.5) (2.23.0)\n",
            "Requirement already satisfied: blis<0.5.0,>=0.4.0 in /usr/local/lib/python3.7/dist-packages (from spacy>=2.2.2->en_core_web_sm==2.2.5) (0.4.1)\n",
            "Requirement already satisfied: preshed<3.1.0,>=3.0.2 in /usr/local/lib/python3.7/dist-packages (from spacy>=2.2.2->en_core_web_sm==2.2.5) (3.0.6)\n",
            "Requirement already satisfied: srsly<1.1.0,>=1.0.2 in /usr/local/lib/python3.7/dist-packages (from spacy>=2.2.2->en_core_web_sm==2.2.5) (1.0.5)\n",
            "Requirement already satisfied: plac<1.2.0,>=0.9.6 in /usr/local/lib/python3.7/dist-packages (from spacy>=2.2.2->en_core_web_sm==2.2.5) (1.1.3)\n",
            "Requirement already satisfied: wasabi<1.1.0,>=0.4.0 in /usr/local/lib/python3.7/dist-packages (from spacy>=2.2.2->en_core_web_sm==2.2.5) (0.9.1)\n",
            "Requirement already satisfied: tqdm<5.0.0,>=4.38.0 in /usr/local/lib/python3.7/dist-packages (from spacy>=2.2.2->en_core_web_sm==2.2.5) (4.64.0)\n",
            "Requirement already satisfied: numpy>=1.15.0 in /usr/local/lib/python3.7/dist-packages (from spacy>=2.2.2->en_core_web_sm==2.2.5) (1.21.6)\n",
            "Requirement already satisfied: catalogue<1.1.0,>=0.0.7 in /usr/local/lib/python3.7/dist-packages (from spacy>=2.2.2->en_core_web_sm==2.2.5) (1.0.0)\n",
            "Requirement already satisfied: importlib-metadata>=0.20 in /usr/local/lib/python3.7/dist-packages (from catalogue<1.1.0,>=0.0.7->spacy>=2.2.2->en_core_web_sm==2.2.5) (4.11.3)\n",
            "Requirement already satisfied: zipp>=0.5 in /usr/local/lib/python3.7/dist-packages (from importlib-metadata>=0.20->catalogue<1.1.0,>=0.0.7->spacy>=2.2.2->en_core_web_sm==2.2.5) (3.8.0)\n",
            "Requirement already satisfied: typing-extensions>=3.6.4 in /usr/local/lib/python3.7/dist-packages (from importlib-metadata>=0.20->catalogue<1.1.0,>=0.0.7->spacy>=2.2.2->en_core_web_sm==2.2.5) (4.2.0)\n",
            "Requirement already satisfied: certifi>=2017.4.17 in /usr/local/lib/python3.7/dist-packages (from requests<3.0.0,>=2.13.0->spacy>=2.2.2->en_core_web_sm==2.2.5) (2021.10.8)\n",
            "Requirement already satisfied: chardet<4,>=3.0.2 in /usr/local/lib/python3.7/dist-packages (from requests<3.0.0,>=2.13.0->spacy>=2.2.2->en_core_web_sm==2.2.5) (3.0.4)\n",
            "Requirement already satisfied: urllib3!=1.25.0,!=1.25.1,<1.26,>=1.21.1 in /usr/local/lib/python3.7/dist-packages (from requests<3.0.0,>=2.13.0->spacy>=2.2.2->en_core_web_sm==2.2.5) (1.24.3)\n",
            "Requirement already satisfied: idna<3,>=2.5 in /usr/local/lib/python3.7/dist-packages (from requests<3.0.0,>=2.13.0->spacy>=2.2.2->en_core_web_sm==2.2.5) (2.10)\n",
            "\u001b[38;5;2m✔ Download and installation successful\u001b[0m\n",
            "You can now load the model via spacy.load('en_core_web_sm')\n",
            "\u001b[38;5;2m✔ Linking successful\u001b[0m\n",
            "/usr/local/lib/python3.7/dist-packages/en_core_web_sm -->\n",
            "/usr/local/lib/python3.7/dist-packages/spacy/data/en\n",
            "You can now load the model via spacy.load('en')\n"
          ]
        },
        {
          "output_type": "execute_result",
          "data": {
            "text/plain": [
              "\"a sci - fi tabletop game where -PRON- assume the role of a member of Stargate Command . as an SG team member , -PRON- and -PRON- teammate will go on mission , guide by a Gatemaster , in the fight against the Goa'uld and other threat . the game be base on the D&D 5th Edition Open Gaming license\""
            ],
            "application/vnd.google.colaboratory.intrinsic+json": {
              "type": "string"
            }
          },
          "metadata": {},
          "execution_count": 3
        }
      ]
    },
    {
      "cell_type": "markdown",
      "source": [
        "📔 **spaCy** is relatively new in the space and is billed as an industrial strength NLP engine.\n",
        "\n",
        "✅ see the **-PRON-** character coming up whenever spacy detects a pronoun."
      ],
      "metadata": {
        "id": "5Gprsd2NNyb-"
      }
    },
    {
      "cell_type": "markdown",
      "source": [
        "#Manually review and parse the new lemmatized sentence in plain English"
      ],
      "metadata": {
        "id": "dI2VWP_cQB_e"
      }
    },
    {
      "cell_type": "code",
      "source": [
        "#@title Identify Entities\n",
        "#paste the reviewed sentence within the \"text_content\" function \n",
        "text_content = \"a sci - fi tabletop game where -PRON- assume the role of a member of Stargate Command . as an SG team member , -PRON- and -PRON- teammate will go on mission , guide by a Gatemaster , in the fight against the Goa'uld and other threat . the game be base on the D&D 5th Edition Open Gaming license\"\n",
        "text_content = text_content[0:1000]\n",
        "\n",
        "client = language_v1.LanguageServiceClient()\n",
        "\n",
        "type_ = enums.Document.Type.PLAIN_TEXT\n",
        "\n",
        "language = \"en\"\n",
        "document = {\"content\": text_content, \"type\": type_, \"language\": language}\n",
        "\n",
        "encoding_type = enums.EncodingType.UTF8\n",
        "\n",
        "response = client.analyze_entities(document, encoding_type=encoding_type)\n",
        "\n",
        "for entity in response.entities:\n",
        "    print(u\"Entity Name: {}\".format(entity.name))\n",
        "\n",
        "    print(u\"Entity type: {}\".format(enums.Entity.Type(entity.type).name))\n",
        "\n",
        "    print(u\"Salience score: {}\".format(round(entity.salience,3)))\n",
        "\n",
        "    for metadata_name, metadata_value in entity.metadata.items():\n",
        "        print(u\"{}: {}\".format(metadata_name, metadata_value))\n",
        "\n",
        "    print('\\n')"
      ],
      "metadata": {
        "colab": {
          "base_uri": "https://localhost:8080/"
        },
        "id": "68Lx8OjCsC_Z",
        "outputId": "5d6a1b41-93f1-45f8-cf90-4a5277e27594"
      },
      "execution_count": null,
      "outputs": [
        {
          "output_type": "stream",
          "name": "stdout",
          "text": [
            "Entity Name: sci - fi tabletop game\n",
            "Entity type: WORK_OF_ART\n",
            "Salience score: 0.438\n",
            "\n",
            "\n",
            "Entity Name: PRON\n",
            "Entity type: ORGANIZATION\n",
            "Salience score: 0.133\n",
            "\n",
            "\n",
            "Entity Name: game\n",
            "Entity type: OTHER\n",
            "Salience score: 0.092\n",
            "\n",
            "\n",
            "Entity Name: member\n",
            "Entity type: PERSON\n",
            "Salience score: 0.08\n",
            "\n",
            "\n",
            "Entity Name: role\n",
            "Entity type: OTHER\n",
            "Salience score: 0.07\n",
            "\n",
            "\n",
            "Entity Name: Stargate Command\n",
            "Entity type: OTHER\n",
            "Salience score: 0.029\n",
            "\n",
            "\n",
            "Entity Name: team member\n",
            "Entity type: PERSON\n",
            "Salience score: 0.026\n",
            "\n",
            "\n",
            "Entity Name: PRON- teammate\n",
            "Entity type: PERSON\n",
            "Salience score: 0.026\n",
            "\n",
            "\n",
            "Entity Name: mission\n",
            "Entity type: OTHER\n",
            "Salience score: 0.022\n",
            "\n",
            "\n",
            "Entity Name: guide\n",
            "Entity type: WORK_OF_ART\n",
            "Salience score: 0.022\n",
            "\n",
            "\n",
            "Entity Name: threat\n",
            "Entity type: OTHER\n",
            "Salience score: 0.016\n",
            "\n",
            "\n",
            "Entity Name: SG\n",
            "Entity type: LOCATION\n",
            "Salience score: 0.014\n",
            "\n",
            "\n",
            "Entity Name: license\n",
            "Entity type: OTHER\n",
            "Salience score: 0.011\n",
            "\n",
            "\n",
            "Entity Name: fight\n",
            "Entity type: EVENT\n",
            "Salience score: 0.007\n",
            "\n",
            "\n",
            "Entity Name: D&D 5th Edition Open Gaming\n",
            "Entity type: OTHER\n",
            "Salience score: 0.007\n",
            "\n",
            "\n",
            "Entity Name: Gatemaster\n",
            "Entity type: PERSON\n",
            "Salience score: 0.004\n",
            "\n",
            "\n",
            "Entity Name: Goa'uld\n",
            "Entity type: OTHER\n",
            "Salience score: 0.004\n",
            "mid: /g/11bc57qld6\n",
            "wikipedia_url: https://fr.wikipedia.org/wiki/Goa'uld\n",
            "\n",
            "\n",
            "Entity Name: 5\n",
            "Entity type: NUMBER\n",
            "Salience score: 0.0\n",
            "value: 5\n",
            "\n",
            "\n"
          ]
        }
      ]
    },
    {
      "cell_type": "markdown",
      "source": [
        "\n",
        "\n",
        "**\"Salience score\"** is a metric of calculated importance in relation to the rest of the text.\n",
        "\n",
        "Entities with **MIDS** indicate Google has strong confidence of understanding and it likely has a comprehensive spot in the Google Knowledge Graph!\n",
        "\n",
        "\n"
      ],
      "metadata": {
        "id": "_2ee_0CysoXj"
      }
    },
    {
      "cell_type": "markdown",
      "source": [
        "#Text-mine Sentiment with NLU"
      ],
      "metadata": {
        "id": "6AAXUT2UtQ06"
      }
    },
    {
      "cell_type": "code",
      "source": [
        " \n",
        "document = types.Document(\n",
        "    content=text_content,\n",
        "    type=enums.Document.Type.PLAIN_TEXT)\n",
        "\n",
        "sentiment = client.analyze_sentiment(document=document).document_sentiment\n",
        "sscore = round(sentiment.score,4)\n",
        "smag = round(sentiment.magnitude,4)\n",
        "\n",
        "if sscore < 1 and sscore < -0.5:\n",
        "  sent_label = \"Very Negative\"\n",
        "elif sscore < 0 and sscore > -0.5:\n",
        "  sent_label = \"Negative\"\n",
        "elif sscore == 0:\n",
        "  sent_label = \"Neutral\"\n",
        "elif sscore > 0.5:\n",
        "  sent_label = \"Very Positive\"\n",
        "elif sscore > 0 and sscore < 0.5:\n",
        "  sent_label = \"Positive\"\n",
        "\n",
        "print('Sentiment Score: {} is {}'.format(sscore,sent_label))\n",
        "\n",
        "predictedY =[sscore] \n",
        "UnlabelledY=[0,1,0]\n",
        "\n",
        "if sscore < 0:\n",
        "    plotcolor = 'red'\n",
        "else:\n",
        "    plotcolor = 'green'\n",
        "\n",
        "plt.scatter(predictedY, np.zeros_like(predictedY),color=plotcolor,s=100)\n",
        "\n",
        "plt.yticks([])\n",
        "plt.subplots_adjust(top=0.9,bottom=0.8)\n",
        "plt.xlim(-1,1)\n",
        "plt.xlabel('Negative                                                            Positive')\n",
        "plt.title(\"Sentiment Attitude Analysis\")\n",
        "plt.show()"
      ],
      "metadata": {
        "colab": {
          "base_uri": "https://localhost:8080/",
          "height": 124
        },
        "id": "7lcyXKwttWkU",
        "outputId": "b1ed1f2f-0cad-484b-8e4b-012dc551ba5c"
      },
      "execution_count": null,
      "outputs": [
        {
          "output_type": "stream",
          "name": "stdout",
          "text": [
            "Sentiment Score: 0.6 is Very Positive\n"
          ]
        },
        {
          "output_type": "display_data",
          "data": {
            "text/plain": [
              "<Figure size 432x288 with 1 Axes>"
            ],
            "image/png": "[encoded data removed]"
          },
          "metadata": {
            "needs_background": "light"
          }
        }
      ]
    },
    {
      "cell_type": "code",
      "source": [
        "#@title Calculate the perceived amount of emotion in a text.\n",
        "if smag > 0 and smag < 1:\n",
        "  sent_m_label = \"No Emotion\"\n",
        "elif smag > 2:\n",
        "  sent_m_label = \"High Emotion\"\n",
        "elif smag > 1 and smag < 2:\n",
        "  sent_m_label = \"Low Emotion\"\n",
        "\n",
        "print('Sentiment Magnitude: {} is {}'.format(smag,sent_m_label))\n",
        "\n",
        "predictedY =[smag] \n",
        "UnlabelledY=[0,1,0]\n",
        "\n",
        "if smag > 0 and smag < 2:\n",
        "    plotcolor = 'red'\n",
        "else:\n",
        "    plotcolor = 'green'\n",
        "\n",
        "plt.scatter(predictedY, np.zeros_like(predictedY),color=plotcolor,s=100)\n",
        "\n",
        "plt.yticks([])\n",
        "plt.subplots_adjust(top=0.9,bottom=0.8)\n",
        "plt.xlim(0,5)\n",
        "plt.xlabel('Low Emotion                                                          High Emotion')\n",
        "plt.title(\"Sentiment Magnitiude Analysis\")\n",
        "plt.show()\n"
      ],
      "metadata": {
        "cellView": "form",
        "id": "OTy1givBvjAi",
        "colab": {
          "base_uri": "https://localhost:8080/",
          "height": 124
        },
        "outputId": "b523627b-85b6-4ab8-fe38-df320a96bfbb"
      },
      "execution_count": null,
      "outputs": [
        {
          "output_type": "stream",
          "name": "stdout",
          "text": [
            "Sentiment Magnitude: 0.6 is No Emotion\n"
          ]
        },
        {
          "output_type": "display_data",
          "data": {
            "text/plain": [
              "<Figure size 432x288 with 1 Axes>"
            ],
            "image/png": "[encoded data removed]"
          },
          "metadata": {
            "needs_background": "light"
          }
        }
      ]
    },
    {
      "cell_type": "code",
      "source": [
        "#@title Calculate Categorization\n",
        "response = client.classify_text(document)\n",
        "\n",
        "for category in response.categories:\n",
        "    print(u\"Category name: {}\".format(category.name))\n",
        "    print(u\"Confidence: {}%\".format(int(round(category.confidence,3)*100)))"
      ],
      "metadata": {
        "cellView": "form",
        "id": "an-lJBIfwr7d",
        "colab": {
          "base_uri": "https://localhost:8080/"
        },
        "outputId": "be99da10-ec23-476a-d3de-198ffff5aaa8"
      },
      "execution_count": null,
      "outputs": [
        {
          "output_type": "stream",
          "name": "stdout",
          "text": [
            "Category name: /Adult\n",
            "Confidence: 87%\n"
          ]
        }
      ]
    },
    {
      "cell_type": "markdown",
      "source": [
        "⏬ \n",
        "The NLP will process the text it’s given and try to place it into any number of preset categories where there is a high enough confidence.\n",
        "\n"
      ],
      "metadata": {
        "id": "Avdns2GZxOOv"
      }
    },
    {
      "cell_type": "markdown",
      "source": [
        "#How Does Semantic Search Impact SEO?\n",
        "\n",
        "1. Focus Shifts from Keywords to Topics: stop creating content around keywords and jump the gun on broad topics in your niche that you can cover in-depth.\n",
        "\n",
        "2. Make a list of keywords and separate them by user intent.\n",
        "For example, the queries **[iPhones vs. Android battery life]** or **[compare Apple and Samsung phones]** both fall under the  intent umbrella of **[compare smartphones]**\n",
        "\n"
      ],
      "metadata": {
        "id": "IG_dadr_ukNz"
      }
    }
  ]
}