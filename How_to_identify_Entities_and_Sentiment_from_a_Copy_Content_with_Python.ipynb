{
  "nbformat": 4,
  "nbformat_minor": 0,
  "metadata": {
    "colab": {
      "name": "How to identify Entities and Sentiment from a Copy Content with Python.ipynb",
      "provenance": [],
      "collapsed_sections": [],
      "authorship_tag": "ABX9TyN/Mpqqk/HZTz5MzYcGD1Ju",
      "include_colab_link": true
    },
    "kernelspec": {
      "name": "python3",
      "display_name": "Python 3"
    },
    "language_info": {
      "name": "python"
    },
    "accelerator": "GPU"
  },
  "cells": [
    {
      "cell_type": "markdown",
      "metadata": {
        "id": "view-in-github",
        "colab_type": "text"
      },
      "source": [
        "<a href=\"https://colab.research.google.com/github/simodepth/Entities/blob/main/How_to_identify_Entities_and_Sentiment_from_a_Copy_Content_with_Python.ipynb\" target=\"_parent\"><img src=\"https://colab.research.google.com/assets/colab-badge.svg\" alt=\"Open In Colab\"/></a>"
      ]
    },
    {
      "cell_type": "markdown",
      "source": [
        "#How do search engine understand a search query?\n",
        "\n",
        "**NLU** (Natural Language Understanding) aims to **understand** what a block of natural language is communicating. \n",
        "One way to do that is identifying key entities within a text, also known as Natural Entities Recognition (**NER**)."
      ],
      "metadata": {
        "id": "oZrraUXRyZlW"
      }
    },
    {
      "cell_type": "markdown",
      "source": [
        "#Requirements and Assumptions\n",
        "- Python 3 is installed \n",
        "- Google Cloud Platform account\n",
        "- [NLP API Enabled](https://cloud.google.com/natural-language/docs)\n",
        "- Credentials created (service account) and JSON file downloaded\n",
        "- NLP JSON key API is uploaded **every time you run this script**\n",
        "\n",
        "\n"
      ],
      "metadata": {
        "id": "NAiITlZW0Qgv"
      }
    },
    {
      "cell_type": "code",
      "execution_count": 24,
      "metadata": {
        "id": "7zJiDIrtreFn"
      },
      "outputs": [],
      "source": [
        "#@title Import Modules\n",
        "import os\n",
        "from google.cloud import language_v1\n",
        "from google.cloud.language_v1 import enums\n",
        "\n",
        "from google.cloud import language\n",
        "from google.cloud.language import types\n",
        "\n",
        "import numpy as np\n",
        "import matplotlib.pyplot as plt\n",
        "from matplotlib.pyplot import figure"
      ]
    },
    {
      "cell_type": "code",
      "source": [
        "#@title Wrap the JSON-LD key API into a call\n",
        "os.environ['GOOGLE_APPLICATION_CREDENTIALS'] = \"/content/nlp-api-348917-9095c7f4e634.json\"\n"
      ],
      "metadata": {
        "id": "Y0blnfparuDm"
      },
      "execution_count": 30,
      "outputs": []
    },
    {
      "cell_type": "code",
      "source": [
        "#@title Text Tokenization\n",
        "text = 'Team up with The Avengers to battle environmental enemies with our officially licensed Marvel pyjamas and character clothing, made sustainably from premium, organic and recycled fabrics. Save the world in comfort with Marvel t-shirts for kids, including other clothing such as onesies and Marvel pjs sets. Top quality and sustainable items make our Marvel clothing as comfortable as it is cool. Made ethically and build to last, you can don your superhero kit knowing you’re helping do good for the planet and supporting a family business. We know Marvel isn’t just for the kids. For adults who want a taste of the superhero life, we have a range of Marvel pyjamas and clothing so you can get in on the action. Shop from Marvel t-shirts and tops, to super cosy Marvel robes and onesies. And if you’re looking for a wardrobe essential, then get your hands on Marvel hoodies.'\n",
        "text.split()\n"
      ],
      "metadata": {
        "colab": {
          "base_uri": "https://localhost:8080/"
        },
        "id": "NFutDVsJ_7ox",
        "outputId": "b27b6f2f-99db-4309-d158-0fb7e5520532"
      },
      "execution_count": 26,
      "outputs": [
        {
          "output_type": "execute_result",
          "data": {
            "text/plain": [
              "['Team',\n",
              " 'up',\n",
              " 'with',\n",
              " 'The',\n",
              " 'Avengers',\n",
              " 'to',\n",
              " 'battle',\n",
              " 'environmental',\n",
              " 'enemies',\n",
              " 'with',\n",
              " 'our',\n",
              " 'officially',\n",
              " 'licensed',\n",
              " 'Marvel',\n",
              " 'pyjamas',\n",
              " 'and',\n",
              " 'character',\n",
              " 'clothing,',\n",
              " 'made',\n",
              " 'sustainably',\n",
              " 'from',\n",
              " 'premium,',\n",
              " 'organic',\n",
              " 'and',\n",
              " 'recycled',\n",
              " 'fabrics.',\n",
              " 'Save',\n",
              " 'the',\n",
              " 'world',\n",
              " 'in',\n",
              " 'comfort',\n",
              " 'with',\n",
              " 'Marvel',\n",
              " 't-shirts',\n",
              " 'for',\n",
              " 'kids,',\n",
              " 'including',\n",
              " 'other',\n",
              " 'clothing',\n",
              " 'such',\n",
              " 'as',\n",
              " 'onesies',\n",
              " 'and',\n",
              " 'Marvel',\n",
              " 'pjs',\n",
              " 'sets.',\n",
              " 'Top',\n",
              " 'quality',\n",
              " 'and',\n",
              " 'sustainable',\n",
              " 'items',\n",
              " 'make',\n",
              " 'our',\n",
              " 'Marvel',\n",
              " 'clothing',\n",
              " 'as',\n",
              " 'comfortable',\n",
              " 'as',\n",
              " 'it',\n",
              " 'is',\n",
              " 'cool.',\n",
              " 'Made',\n",
              " 'ethically',\n",
              " 'and',\n",
              " 'build',\n",
              " 'to',\n",
              " 'last,',\n",
              " 'you',\n",
              " 'can',\n",
              " 'don',\n",
              " 'your',\n",
              " 'superhero',\n",
              " 'kit',\n",
              " 'knowing',\n",
              " 'you’re',\n",
              " 'helping',\n",
              " 'do',\n",
              " 'good',\n",
              " 'for',\n",
              " 'the',\n",
              " 'planet',\n",
              " 'and',\n",
              " 'supporting',\n",
              " 'a',\n",
              " 'family',\n",
              " 'business.',\n",
              " 'We',\n",
              " 'know',\n",
              " 'Marvel',\n",
              " 'isn’t',\n",
              " 'just',\n",
              " 'for',\n",
              " 'the',\n",
              " 'kids.',\n",
              " 'For',\n",
              " 'adults',\n",
              " 'who',\n",
              " 'want',\n",
              " 'a',\n",
              " 'taste',\n",
              " 'of',\n",
              " 'the',\n",
              " 'superhero',\n",
              " 'life,',\n",
              " 'we',\n",
              " 'have',\n",
              " 'a',\n",
              " 'range',\n",
              " 'of',\n",
              " 'Marvel',\n",
              " 'pyjamas',\n",
              " 'and',\n",
              " 'clothing',\n",
              " 'so',\n",
              " 'you',\n",
              " 'can',\n",
              " 'get',\n",
              " 'in',\n",
              " 'on',\n",
              " 'the',\n",
              " 'action.',\n",
              " 'Shop',\n",
              " 'from',\n",
              " 'Marvel',\n",
              " 't-shirts',\n",
              " 'and',\n",
              " 'tops,',\n",
              " 'to',\n",
              " 'super',\n",
              " 'cosy',\n",
              " 'Marvel',\n",
              " 'robes',\n",
              " 'and',\n",
              " 'onesies.',\n",
              " 'And',\n",
              " 'if',\n",
              " 'you’re',\n",
              " 'looking',\n",
              " 'for',\n",
              " 'a',\n",
              " 'wardrobe',\n",
              " 'essential,',\n",
              " 'then',\n",
              " 'get',\n",
              " 'your',\n",
              " 'hands',\n",
              " 'on',\n",
              " 'Marvel',\n",
              " 'hoodies.']"
            ]
          },
          "metadata": {},
          "execution_count": 26
        }
      ]
    },
    {
      "cell_type": "code",
      "source": [
        "#@title Stemming Words\n",
        "from nltk.stem import PorterStemmer\n",
        "porter = PorterStemmer()\n",
        "#create an object of class PorterStemmer\n",
        "porter = PorterStemmer()\n",
        "#A list of words to be stemmed\n",
        "word_list = [\"pyjamas\", \"clothing\", \"superhero\", \"adults\",\"kids\",\"planet\",\"organic\",\"comfortable\",\"sustainability\",\"onesies\", \"robes\", \"recycled\", \"premium\", \"enemies\", \"environmental\", \"character\", \"clothing\", ]\n",
        "print(\"{0:20}{1:20}\".format(\"Word\",\"Porter Stemmer\"))\n",
        "for word in word_list:\n",
        "    print(\"{0:20}{1:20}\".format(word,porter.stem(word)))\n"
      ],
      "metadata": {
        "colab": {
          "base_uri": "https://localhost:8080/"
        },
        "id": "JUcjgK7xCFkE",
        "outputId": "dfe0b710-2837-408e-850d-e80b3200ef87"
      },
      "execution_count": 27,
      "outputs": [
        {
          "output_type": "stream",
          "name": "stdout",
          "text": [
            "Word                Porter Stemmer      \n",
            "pyjamas             pyjama              \n",
            "clothing            cloth               \n",
            "superhero           superhero           \n",
            "adults              adult               \n",
            "kids                kid                 \n",
            "planet              planet              \n",
            "organic             organ               \n",
            "comfortable         comfort             \n",
            "sustainability      sustain             \n",
            "onesies             onesi               \n",
            "robes               robe                \n",
            "recycled            recycl              \n",
            "premium             premium             \n",
            "enemies             enemi               \n",
            "environmental       environment         \n",
            "character           charact             \n",
            "clothing            cloth               \n"
          ]
        }
      ]
    },
    {
      "cell_type": "markdown",
      "source": [
        "📔 **Porter Stemming Algorithm** is the most popular among stemming algorithms as it’s been the benchmark for stemming since 1980"
      ],
      "metadata": {
        "id": "vqJDzVbaHUeZ"
      }
    },
    {
      "cell_type": "code",
      "source": [
        "#@title Extract Recognizable Words with Lemmatization\n",
        "# Install spaCy (run in terminal/prompt)\n",
        "import sys\n",
        "!{sys.executable} -m pip install spacy\n",
        "\n",
        "# Download spaCy's  'en' Model\n",
        "!{sys.executable} -m spacy download en\n",
        "\n",
        "import spacy\n",
        "\n",
        "# Initialize spacy 'en' model, keeping only tagger component needed for lemmatization\n",
        "nlp = spacy.load('en', disable=['parser', 'ner'])\n",
        "\n",
        "sentence = \"Team up with The Avengers to battle environmental enemies with our officially licensed Marvel pyjamas and character clothing, made sustainably from premium, organic and recycled fabrics. Save the world in comfort with Marvel t-shirts for kids, including other clothing such as onesies and Marvel pjs sets. Top quality and sustainable items make our Marvel clothing as comfortable as it is cool. Made ethically and build to last, you can don your superhero kit knowing you’re helping do good for the planet and supporting a family business. We know Marvel isn’t just for the kids. For adults who want a taste of the superhero life, we have a range of Marvel pyjamas and clothing so you can get in on the action. Shop from Marvel t-shirts and tops, to super cosy Marvel robes and onesies. And if you’re looking for a wardrobe essential, then get your hands on Marvel hoodies.\"\n",
        "# Parse the sentence using the loaded 'en' model object `nlp`\n",
        "doc = nlp(sentence)\n",
        "\n",
        "# Extract the lemma for each token and join\n",
        "\" \".join([token.lemma_ for token in doc])"
      ],
      "metadata": {
        "colab": {
          "base_uri": "https://localhost:8080/",
          "height": 1000
        },
        "id": "_h_-hU2dNNA7",
        "outputId": "640fbe70-8152-4b07-d017-8f768e7f57f6"
      },
      "execution_count": 28,
      "outputs": [
        {
          "output_type": "stream",
          "name": "stdout",
          "text": [
            "Requirement already satisfied: spacy in /usr/local/lib/python3.7/dist-packages (2.2.4)\n",
            "Requirement already satisfied: preshed<3.1.0,>=3.0.2 in /usr/local/lib/python3.7/dist-packages (from spacy) (3.0.6)\n",
            "Requirement already satisfied: thinc==7.4.0 in /usr/local/lib/python3.7/dist-packages (from spacy) (7.4.0)\n",
            "Requirement already satisfied: cymem<2.1.0,>=2.0.2 in /usr/local/lib/python3.7/dist-packages (from spacy) (2.0.6)\n",
            "Requirement already satisfied: tqdm<5.0.0,>=4.38.0 in /usr/local/lib/python3.7/dist-packages (from spacy) (4.64.0)\n",
            "Requirement already satisfied: murmurhash<1.1.0,>=0.28.0 in /usr/local/lib/python3.7/dist-packages (from spacy) (1.0.7)\n",
            "Requirement already satisfied: wasabi<1.1.0,>=0.4.0 in /usr/local/lib/python3.7/dist-packages (from spacy) (0.9.1)\n",
            "Requirement already satisfied: setuptools in /usr/local/lib/python3.7/dist-packages (from spacy) (57.4.0)\n",
            "Requirement already satisfied: plac<1.2.0,>=0.9.6 in /usr/local/lib/python3.7/dist-packages (from spacy) (1.1.3)\n",
            "Requirement already satisfied: catalogue<1.1.0,>=0.0.7 in /usr/local/lib/python3.7/dist-packages (from spacy) (1.0.0)\n",
            "Requirement already satisfied: blis<0.5.0,>=0.4.0 in /usr/local/lib/python3.7/dist-packages (from spacy) (0.4.1)\n",
            "Requirement already satisfied: numpy>=1.15.0 in /usr/local/lib/python3.7/dist-packages (from spacy) (1.21.6)\n",
            "Requirement already satisfied: srsly<1.1.0,>=1.0.2 in /usr/local/lib/python3.7/dist-packages (from spacy) (1.0.5)\n",
            "Requirement already satisfied: requests<3.0.0,>=2.13.0 in /usr/local/lib/python3.7/dist-packages (from spacy) (2.23.0)\n",
            "Requirement already satisfied: importlib-metadata>=0.20 in /usr/local/lib/python3.7/dist-packages (from catalogue<1.1.0,>=0.0.7->spacy) (4.11.3)\n",
            "Requirement already satisfied: zipp>=0.5 in /usr/local/lib/python3.7/dist-packages (from importlib-metadata>=0.20->catalogue<1.1.0,>=0.0.7->spacy) (3.8.0)\n",
            "Requirement already satisfied: typing-extensions>=3.6.4 in /usr/local/lib/python3.7/dist-packages (from importlib-metadata>=0.20->catalogue<1.1.0,>=0.0.7->spacy) (4.2.0)\n",
            "Requirement already satisfied: idna<3,>=2.5 in /usr/local/lib/python3.7/dist-packages (from requests<3.0.0,>=2.13.0->spacy) (2.10)\n",
            "Requirement already satisfied: chardet<4,>=3.0.2 in /usr/local/lib/python3.7/dist-packages (from requests<3.0.0,>=2.13.0->spacy) (3.0.4)\n",
            "Requirement already satisfied: urllib3!=1.25.0,!=1.25.1,<1.26,>=1.21.1 in /usr/local/lib/python3.7/dist-packages (from requests<3.0.0,>=2.13.0->spacy) (1.24.3)\n",
            "Requirement already satisfied: certifi>=2017.4.17 in /usr/local/lib/python3.7/dist-packages (from requests<3.0.0,>=2.13.0->spacy) (2021.10.8)\n",
            "Collecting en_core_web_sm==2.2.5\n",
            "  Downloading https://github.com/explosion/spacy-models/releases/download/en_core_web_sm-2.2.5/en_core_web_sm-2.2.5.tar.gz (12.0 MB)\n",
            "\u001b[K     |████████████████████████████████| 12.0 MB 5.0 MB/s \n",
            "\u001b[?25hRequirement already satisfied: spacy>=2.2.2 in /usr/local/lib/python3.7/dist-packages (from en_core_web_sm==2.2.5) (2.2.4)\n",
            "Requirement already satisfied: murmurhash<1.1.0,>=0.28.0 in /usr/local/lib/python3.7/dist-packages (from spacy>=2.2.2->en_core_web_sm==2.2.5) (1.0.7)\n",
            "Requirement already satisfied: requests<3.0.0,>=2.13.0 in /usr/local/lib/python3.7/dist-packages (from spacy>=2.2.2->en_core_web_sm==2.2.5) (2.23.0)\n",
            "Requirement already satisfied: cymem<2.1.0,>=2.0.2 in /usr/local/lib/python3.7/dist-packages (from spacy>=2.2.2->en_core_web_sm==2.2.5) (2.0.6)\n",
            "Requirement already satisfied: catalogue<1.1.0,>=0.0.7 in /usr/local/lib/python3.7/dist-packages (from spacy>=2.2.2->en_core_web_sm==2.2.5) (1.0.0)\n",
            "Requirement already satisfied: tqdm<5.0.0,>=4.38.0 in /usr/local/lib/python3.7/dist-packages (from spacy>=2.2.2->en_core_web_sm==2.2.5) (4.64.0)\n",
            "Requirement already satisfied: wasabi<1.1.0,>=0.4.0 in /usr/local/lib/python3.7/dist-packages (from spacy>=2.2.2->en_core_web_sm==2.2.5) (0.9.1)\n",
            "Requirement already satisfied: blis<0.5.0,>=0.4.0 in /usr/local/lib/python3.7/dist-packages (from spacy>=2.2.2->en_core_web_sm==2.2.5) (0.4.1)\n",
            "Requirement already satisfied: plac<1.2.0,>=0.9.6 in /usr/local/lib/python3.7/dist-packages (from spacy>=2.2.2->en_core_web_sm==2.2.5) (1.1.3)\n",
            "Requirement already satisfied: preshed<3.1.0,>=3.0.2 in /usr/local/lib/python3.7/dist-packages (from spacy>=2.2.2->en_core_web_sm==2.2.5) (3.0.6)\n",
            "Requirement already satisfied: numpy>=1.15.0 in /usr/local/lib/python3.7/dist-packages (from spacy>=2.2.2->en_core_web_sm==2.2.5) (1.21.6)\n",
            "Requirement already satisfied: srsly<1.1.0,>=1.0.2 in /usr/local/lib/python3.7/dist-packages (from spacy>=2.2.2->en_core_web_sm==2.2.5) (1.0.5)\n",
            "Requirement already satisfied: thinc==7.4.0 in /usr/local/lib/python3.7/dist-packages (from spacy>=2.2.2->en_core_web_sm==2.2.5) (7.4.0)\n",
            "Requirement already satisfied: setuptools in /usr/local/lib/python3.7/dist-packages (from spacy>=2.2.2->en_core_web_sm==2.2.5) (57.4.0)\n",
            "Requirement already satisfied: importlib-metadata>=0.20 in /usr/local/lib/python3.7/dist-packages (from catalogue<1.1.0,>=0.0.7->spacy>=2.2.2->en_core_web_sm==2.2.5) (4.11.3)\n",
            "Requirement already satisfied: zipp>=0.5 in /usr/local/lib/python3.7/dist-packages (from importlib-metadata>=0.20->catalogue<1.1.0,>=0.0.7->spacy>=2.2.2->en_core_web_sm==2.2.5) (3.8.0)\n",
            "Requirement already satisfied: typing-extensions>=3.6.4 in /usr/local/lib/python3.7/dist-packages (from importlib-metadata>=0.20->catalogue<1.1.0,>=0.0.7->spacy>=2.2.2->en_core_web_sm==2.2.5) (4.2.0)\n",
            "Requirement already satisfied: urllib3!=1.25.0,!=1.25.1,<1.26,>=1.21.1 in /usr/local/lib/python3.7/dist-packages (from requests<3.0.0,>=2.13.0->spacy>=2.2.2->en_core_web_sm==2.2.5) (1.24.3)\n",
            "Requirement already satisfied: chardet<4,>=3.0.2 in /usr/local/lib/python3.7/dist-packages (from requests<3.0.0,>=2.13.0->spacy>=2.2.2->en_core_web_sm==2.2.5) (3.0.4)\n",
            "Requirement already satisfied: idna<3,>=2.5 in /usr/local/lib/python3.7/dist-packages (from requests<3.0.0,>=2.13.0->spacy>=2.2.2->en_core_web_sm==2.2.5) (2.10)\n",
            "Requirement already satisfied: certifi>=2017.4.17 in /usr/local/lib/python3.7/dist-packages (from requests<3.0.0,>=2.13.0->spacy>=2.2.2->en_core_web_sm==2.2.5) (2021.10.8)\n",
            "\u001b[38;5;2m✔ Download and installation successful\u001b[0m\n",
            "You can now load the model via spacy.load('en_core_web_sm')\n",
            "\u001b[38;5;2m✔ Linking successful\u001b[0m\n",
            "/usr/local/lib/python3.7/dist-packages/en_core_web_sm -->\n",
            "/usr/local/lib/python3.7/dist-packages/spacy/data/en\n",
            "You can now load the model via spacy.load('en')\n"
          ]
        },
        {
          "output_type": "execute_result",
          "data": {
            "text/plain": [
              "'team up with the Avengers to battle environmental enemy with -PRON- officially license Marvel pyjama and character clothing , make sustainably from premium , organic and recycled fabric . save the world in comfort with Marvel t - shirt for kid , include other clothing such as onesie and Marvel pjs set . top quality and sustainable item make -PRON- Marvel clothing as comfortable as -PRON- be cool . make ethically and build to last , -PRON- can don -PRON- superhero kit know -PRON- be help do good for the planet and support a family business . -PRON- know Marvel be not just for the kid . for adult who want a taste of the superhero life , -PRON- have a range of Marvel pyjama and clothing so -PRON- can get in on the action . shop from Marvel t - shirt and top , to super cosy Marvel robe and onesie . and if -PRON- be look for a wardrobe essential , then get -PRON- hand on Marvel hoodie .'"
            ],
            "application/vnd.google.colaboratory.intrinsic+json": {
              "type": "string"
            }
          },
          "metadata": {},
          "execution_count": 28
        }
      ]
    },
    {
      "cell_type": "markdown",
      "source": [
        "📔 **spaCy** is relatively new in the space and is billed as an industrial strength NLP engine.\n",
        "✅ see the **-PRON-** character coming up whenever spacy detects a pronoun."
      ],
      "metadata": {
        "id": "5Gprsd2NNyb-"
      }
    },
    {
      "cell_type": "markdown",
      "source": [
        "#Manually review and parse the new lemmatized sentence in plain English"
      ],
      "metadata": {
        "id": "dI2VWP_cQB_e"
      }
    },
    {
      "cell_type": "code",
      "source": [
        "#@title Identify Entities\n",
        "#paste the reviewed sentence within the \"text_content\" function \n",
        "text_content = \"team up with the Avengers to battle environmental enemy with our officially license Marvel pyjama and character clothing , make sustainably from premium , organic and recycled fabric . save the world in comfort with Marvel t - shirt for kid , include other clothing such as onesie and Marvel pjs set . top quality and sustainable item make our Marvel clothing as comfortable as they are cool . make ethically and build to last , you can have your superhero kit know to help do good for the planet and support a family business .  For adult who want a taste of the superhero life , we have a range of Marvel pyjama and clothing so you can get in on the action . Shop from Marvel t - shirt and top , to super cosy Marvel robe and onesie . And if you look for a wardrobe essential , then get hand on Marvel hoodie\"\n",
        "\n",
        "text_content = text_content[0:1000]\n",
        "\n",
        "client = language_v1.LanguageServiceClient()\n",
        "\n",
        "type_ = enums.Document.Type.PLAIN_TEXT\n",
        "\n",
        "language = \"en\"\n",
        "document = {\"content\": text_content, \"type\": type_, \"language\": language}\n",
        "\n",
        "encoding_type = enums.EncodingType.UTF8\n",
        "\n",
        "response = client.analyze_entities(document, encoding_type=encoding_type)\n",
        "\n",
        "for entity in response.entities:\n",
        "    print(u\"Entity Name: {}\".format(entity.name))\n",
        "\n",
        "    print(u\"Entity type: {}\".format(enums.Entity.Type(entity.type).name))\n",
        "\n",
        "    print(u\"Salience score: {}\".format(round(entity.salience,3)))\n",
        "\n",
        "    for metadata_name, metadata_value in entity.metadata.items():\n",
        "        print(u\"{}: {}\".format(metadata_name, metadata_value))\n",
        "\n",
        "    print('\\n')"
      ],
      "metadata": {
        "colab": {
          "base_uri": "https://localhost:8080/"
        },
        "id": "68Lx8OjCsC_Z",
        "outputId": "c033d7d9-7f1c-4e90-aba8-03e292d994f3"
      },
      "execution_count": 31,
      "outputs": [
        {
          "output_type": "stream",
          "name": "stdout",
          "text": [
            "Entity Name: Marvel\n",
            "Entity type: ORGANIZATION\n",
            "Salience score: 0.385\n",
            "\n",
            "\n",
            "Entity Name: character clothing\n",
            "Entity type: OTHER\n",
            "Salience score: 0.105\n",
            "\n",
            "\n",
            "Entity Name: pyjama\n",
            "Entity type: CONSUMER_GOOD\n",
            "Salience score: 0.089\n",
            "\n",
            "\n",
            "Entity Name: enemy\n",
            "Entity type: OTHER\n",
            "Salience score: 0.079\n",
            "\n",
            "\n",
            "Entity Name: Avengers\n",
            "Entity type: PERSON\n",
            "Salience score: 0.047\n",
            "\n",
            "\n",
            "Entity Name: premium\n",
            "Entity type: OTHER\n",
            "Salience score: 0.03\n",
            "\n",
            "\n",
            "Entity Name: fabric\n",
            "Entity type: OTHER\n",
            "Salience score: 0.03\n",
            "\n",
            "\n",
            "Entity Name: adult\n",
            "Entity type: PERSON\n",
            "Salience score: 0.023\n",
            "\n",
            "\n",
            "Entity Name: t - shirt\n",
            "Entity type: CONSUMER_GOOD\n",
            "Salience score: 0.017\n",
            "\n",
            "\n",
            "Entity Name: world\n",
            "Entity type: LOCATION\n",
            "Salience score: 0.015\n",
            "\n",
            "\n",
            "Entity Name: comfort\n",
            "Entity type: OTHER\n",
            "Salience score: 0.015\n",
            "\n",
            "\n",
            "Entity Name: clothing\n",
            "Entity type: CONSUMER_GOOD\n",
            "Salience score: 0.013\n",
            "\n",
            "\n",
            "Entity Name: clothing\n",
            "Entity type: CONSUMER_GOOD\n",
            "Salience score: 0.013\n",
            "\n",
            "\n",
            "Entity Name: onesie\n",
            "Entity type: CONSUMER_GOOD\n",
            "Salience score: 0.011\n",
            "\n",
            "\n",
            "Entity Name: pjs set\n",
            "Entity type: OTHER\n",
            "Salience score: 0.01\n",
            "\n",
            "\n",
            "Entity Name: kid\n",
            "Entity type: PERSON\n",
            "Salience score: 0.01\n",
            "\n",
            "\n",
            "Entity Name: quality\n",
            "Entity type: OTHER\n",
            "Salience score: 0.01\n",
            "\n",
            "\n",
            "Entity Name: item\n",
            "Entity type: OTHER\n",
            "Salience score: 0.01\n",
            "\n",
            "\n",
            "Entity Name: planet\n",
            "Entity type: LOCATION\n",
            "Salience score: 0.009\n",
            "\n",
            "\n",
            "Entity Name: family business\n",
            "Entity type: OTHER\n",
            "Salience score: 0.009\n",
            "\n",
            "\n",
            "Entity Name: t - shirt\n",
            "Entity type: CONSUMER_GOOD\n",
            "Salience score: 0.008\n",
            "\n",
            "\n",
            "Entity Name: action\n",
            "Entity type: OTHER\n",
            "Salience score: 0.007\n",
            "\n",
            "\n",
            "Entity Name: Shop\n",
            "Entity type: LOCATION\n",
            "Salience score: 0.007\n",
            "\n",
            "\n",
            "Entity Name: hand\n",
            "Entity type: OTHER\n",
            "Salience score: 0.006\n",
            "\n",
            "\n",
            "Entity Name: onesie\n",
            "Entity type: CONSUMER_GOOD\n",
            "Salience score: 0.005\n",
            "\n",
            "\n",
            "Entity Name: superhero kit\n",
            "Entity type: OTHER\n",
            "Salience score: 0.005\n",
            "\n",
            "\n",
            "Entity Name: robe\n",
            "Entity type: CONSUMER_GOOD\n",
            "Salience score: 0.005\n",
            "\n",
            "\n",
            "Entity Name: hoodie\n",
            "Entity type: CONSUMER_GOOD\n",
            "Salience score: 0.005\n",
            "\n",
            "\n",
            "Entity Name: wardrobe\n",
            "Entity type: OTHER\n",
            "Salience score: 0.005\n",
            "\n",
            "\n",
            "Entity Name: clothing\n",
            "Entity type: CONSUMER_GOOD\n",
            "Salience score: 0.004\n",
            "\n",
            "\n",
            "Entity Name: pyjama\n",
            "Entity type: CONSUMER_GOOD\n",
            "Salience score: 0.003\n",
            "\n",
            "\n",
            "Entity Name: superhero life\n",
            "Entity type: OTHER\n",
            "Salience score: 0.003\n",
            "\n",
            "\n",
            "Entity Name: taste\n",
            "Entity type: OTHER\n",
            "Salience score: 0.003\n",
            "\n",
            "\n",
            "Entity Name: range\n",
            "Entity type: OTHER\n",
            "Salience score: 0.003\n",
            "\n",
            "\n"
          ]
        }
      ]
    },
    {
      "cell_type": "markdown",
      "source": [
        "\n",
        "\n",
        "**\"Salience score\"** is a metric of calculated importance in relation to the rest of the text.\n",
        "\n",
        "Entities with **MIDS** indicate Google has strong confidence of understanding and it likely has a comprehensive spot in the Google Knowledge Graph!\n",
        "\n",
        "\n"
      ],
      "metadata": {
        "id": "_2ee_0CysoXj"
      }
    },
    {
      "cell_type": "code",
      "source": [
        "#@title Get and idea of the Sentiment \n",
        "document = types.Document(\n",
        "    content=text_content,\n",
        "    type=enums.Document.Type.PLAIN_TEXT)\n",
        "\n",
        "sentiment = client.analyze_sentiment(document=document).document_sentiment\n",
        "sscore = round(sentiment.score,4)\n",
        "smag = round(sentiment.magnitude,4)\n",
        "\n",
        "if sscore < 1 and sscore < -0.5:\n",
        "  sent_label = \"Very Negative\"\n",
        "elif sscore < 0 and sscore > -0.5:\n",
        "  sent_label = \"Negative\"\n",
        "elif sscore == 0:\n",
        "  sent_label = \"Neutral\"\n",
        "elif sscore > 0.5:\n",
        "  sent_label = \"Very Positive\"\n",
        "elif sscore > 0 and sscore < 0.5:\n",
        "  sent_label = \"Positive\"\n",
        "\n",
        "print('Sentiment Score: {} is {}'.format(sscore,sent_label))\n",
        "\n",
        "predictedY =[sscore] \n",
        "UnlabelledY=[0,1,0]\n",
        "\n",
        "if sscore < 0:\n",
        "    plotcolor = 'red'\n",
        "else:\n",
        "    plotcolor = 'green'\n",
        "\n",
        "plt.scatter(predictedY, np.zeros_like(predictedY),color=plotcolor,s=100)\n",
        "\n",
        "plt.yticks([])\n",
        "plt.subplots_adjust(top=0.9,bottom=0.8)\n",
        "plt.xlim(-1,1)\n",
        "plt.xlabel('Negative                                                            Positive')\n",
        "plt.title(\"Sentiment Attitude Analysis\")\n",
        "plt.show()"
      ],
      "metadata": {
        "colab": {
          "base_uri": "https://localhost:8080/",
          "height": 125
        },
        "cellView": "form",
        "id": "7lcyXKwttWkU",
        "outputId": "c8babcf1-3a02-4c3d-8243-c75217520560"
      },
      "execution_count": null,
      "outputs": [
        {
          "output_type": "stream",
          "name": "stdout",
          "text": [
            "Sentiment Score: 0.5 is Positive\n"
          ]
        },
        {
          "output_type": "display_data",
          "data": {
            "text/plain": [
              "<Figure size 432x288 with 1 Axes>"
            ],
            "image/png": "[encoded data removed]"
          },
          "metadata": {
            "needs_background": "light"
          }
        }
      ]
    },
    {
      "cell_type": "code",
      "source": [
        "#@title Calculate the perceived amount of emotion in a text.\n",
        "if smag > 0 and smag < 1:\n",
        "  sent_m_label = \"No Emotion\"\n",
        "elif smag > 2:\n",
        "  sent_m_label = \"High Emotion\"\n",
        "elif smag > 1 and smag < 2:\n",
        "  sent_m_label = \"Low Emotion\"\n",
        "\n",
        "print('Sentiment Magnitude: {} is {}'.format(smag,sent_m_label))\n",
        "\n",
        "predictedY =[smag] \n",
        "UnlabelledY=[0,1,0]\n",
        "\n",
        "if smag > 0 and smag < 2:\n",
        "    plotcolor = 'red'\n",
        "else:\n",
        "    plotcolor = 'green'\n",
        "\n",
        "plt.scatter(predictedY, np.zeros_like(predictedY),color=plotcolor,s=100)\n",
        "\n",
        "plt.yticks([])\n",
        "plt.subplots_adjust(top=0.9,bottom=0.8)\n",
        "plt.xlim(0,5)\n",
        "plt.xlabel('Low Emotion                                                          High Emotion')\n",
        "plt.title(\"Sentiment Magnitiude Analysis\")\n",
        "plt.show()\n"
      ],
      "metadata": {
        "colab": {
          "base_uri": "https://localhost:8080/",
          "height": 125
        },
        "cellView": "form",
        "id": "OTy1givBvjAi",
        "outputId": "008f48a9-4ca3-4f3c-ba19-8fe1f5ea2983"
      },
      "execution_count": null,
      "outputs": [
        {
          "output_type": "stream",
          "name": "stdout",
          "text": [
            "Sentiment Magnitude: 5.1 is High Emotion\n"
          ]
        },
        {
          "output_type": "display_data",
          "data": {
            "text/plain": [
              "<Figure size 432x288 with 1 Axes>"
            ],
            "image/png": "[encoded data removed]"
          },
          "metadata": {
            "needs_background": "light"
          }
        }
      ]
    },
    {
      "cell_type": "code",
      "source": [
        "#@title Calculate Categorization\n",
        "response = client.classify_text(document)\n",
        "\n",
        "for category in response.categories:\n",
        "    print(u\"Category name: {}\".format(category.name))\n",
        "    print(u\"Confidence: {}%\".format(int(round(category.confidence,3)*100)))"
      ],
      "metadata": {
        "colab": {
          "base_uri": "https://localhost:8080/"
        },
        "cellView": "form",
        "id": "an-lJBIfwr7d",
        "outputId": "a9c291b3-870a-4a9e-a71d-bcf193bbad6a"
      },
      "execution_count": null,
      "outputs": [
        {
          "output_type": "stream",
          "name": "stdout",
          "text": [
            "Category name: /Arts & Entertainment/Comics & Animation/Comics\n",
            "Confidence: 81%\n",
            "Category name: /Shopping/Apparel\n",
            "Confidence: 72%\n"
          ]
        }
      ]
    },
    {
      "cell_type": "markdown",
      "source": [
        "⏬ \n",
        "The NLP will process the text it’s given and try to place it into any number of preset categories where there is a high enough confidence.\n",
        "\n"
      ],
      "metadata": {
        "id": "Avdns2GZxOOv"
      }
    }
  ]
}