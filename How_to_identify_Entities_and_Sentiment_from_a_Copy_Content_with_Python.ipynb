{
  "nbformat": 4,
  "nbformat_minor": 0,
  "metadata": {
    "colab": {
      "name": "How to identify Entities and Sentiment from a Copy Content with Python.ipynb",
      "provenance": [],
      "collapsed_sections": [],
      "authorship_tag": "ABX9TyNcfMJ2yVv9HSqIs0jHhNhg",
      "include_colab_link": true
    },
    "kernelspec": {
      "name": "python3",
      "display_name": "Python 3"
    },
    "language_info": {
      "name": "python"
    }
  },
  "cells": [
    {
      "cell_type": "markdown",
      "metadata": {
        "id": "view-in-github",
        "colab_type": "text"
      },
      "source": [
        "<a href=\"https://colab.research.google.com/github/simodepth/Entities/blob/main/How_to_identify_Entities_and_Sentiment_from_a_Copy_Content_with_Python.ipynb\" target=\"_parent\"><img src=\"https://colab.research.google.com/assets/colab-badge.svg\" alt=\"Open In Colab\"/></a>"
      ]
    },
    {
      "cell_type": "markdown",
      "source": [
        "#How do search engine understand a search query?\n",
        "\n",
        "**NLU** (Natural Language Understanding) aims to **understand** what a block of natural language is communicating. \n",
        "One way to do that is identifying key entities within a text, also known as Natural Entities Recognition (**NER**)."
      ],
      "metadata": {
        "id": "oZrraUXRyZlW"
      }
    },
    {
      "cell_type": "markdown",
      "source": [
        "#Requirements and Assumptions\n",
        "- Python 3 is installed \n",
        "- Google Cloud Platform account\n",
        "- [NLP API Enabled](https://cloud.google.com/natural-language/docs)\n",
        "- Credentials created (service account) and JSON file downloaded\n",
        "\n",
        "\n"
      ],
      "metadata": {
        "id": "NAiITlZW0Qgv"
      }
    },
    {
      "cell_type": "code",
      "execution_count": 1,
      "metadata": {
        "id": "7zJiDIrtreFn"
      },
      "outputs": [],
      "source": [
        "#@title Import Modules\n",
        "import os\n",
        "from google.cloud import language_v1\n",
        "from google.cloud.language_v1 import enums\n",
        "\n",
        "from google.cloud import language\n",
        "from google.cloud.language import types\n",
        "\n",
        "import numpy as np\n",
        "import matplotlib.pyplot as plt\n",
        "from matplotlib.pyplot import figure"
      ]
    },
    {
      "cell_type": "code",
      "source": [
        "#@title Wrap the JSON-LD key API into a call\n",
        "os.environ['GOOGLE_APPLICATION_CREDENTIALS'] = \"/content/nlp-api-348917-9095c7f4e634.json\"\n"
      ],
      "metadata": {
        "id": "Y0blnfparuDm"
      },
      "execution_count": 2,
      "outputs": []
    },
    {
      "cell_type": "code",
      "source": [
        "#@title Identify Entities\n",
        "text_content = \"Team up with The Avengers to battle environmental enemies with our officially licensed Marvel pyjamas and character clothing, made sustainably from premium, organic and recycled fabrics. Save the world in comfort with Marvel t-shirts for kids, including other clothing such as onesies and Marvel pjs sets. Top quality and sustainable items make our Marvel clothing as comfortable as it is cool. Made ethically and build to last, you can don your superhero kit knowing you’re helping do good for the planet and supporting a family business. We know Marvel isn’t just for the kids. For adults who want a taste of the superhero life, we have a range of Marvel pyjamas and clothing so you can get in on the action. Shop from Marvel t-shirts and tops, to super cosy Marvel robes and onesies. And if you’re looking for a wardrobe essential, then get your hands on Marvel hoodies.\"\n",
        "\n",
        "text_content = text_content[0:1000]\n",
        "\n",
        "client = language_v1.LanguageServiceClient()\n",
        "\n",
        "type_ = enums.Document.Type.PLAIN_TEXT\n",
        "\n",
        "language = \"en\"\n",
        "document = {\"content\": text_content, \"type\": type_, \"language\": language}\n",
        "\n",
        "encoding_type = enums.EncodingType.UTF8\n",
        "\n",
        "response = client.analyze_entities(document, encoding_type=encoding_type)\n",
        "\n",
        "for entity in response.entities:\n",
        "    print(u\"Entity Name: {}\".format(entity.name))\n",
        "\n",
        "    print(u\"Entity type: {}\".format(enums.Entity.Type(entity.type).name))\n",
        "\n",
        "    print(u\"Salience score: {}\".format(round(entity.salience,3)))\n",
        "\n",
        "    for metadata_name, metadata_value in entity.metadata.items():\n",
        "        print(u\"{}: {}\".format(metadata_name, metadata_value))\n",
        "\n",
        "    print('\\n')"
      ],
      "metadata": {
        "colab": {
          "base_uri": "https://localhost:8080/"
        },
        "id": "68Lx8OjCsC_Z",
        "outputId": "8f7d7532-6be5-409f-f698-45f80922c01d"
      },
      "execution_count": 5,
      "outputs": [
        {
          "output_type": "stream",
          "name": "stdout",
          "text": [
            "Entity Name: Marvel\n",
            "Entity type: ORGANIZATION\n",
            "Salience score: 0.365\n",
            "\n",
            "\n",
            "Entity Name: character clothing\n",
            "Entity type: OTHER\n",
            "Salience score: 0.106\n",
            "\n",
            "\n",
            "Entity Name: pyjamas\n",
            "Entity type: CONSUMER_GOOD\n",
            "Salience score: 0.091\n",
            "\n",
            "\n",
            "Entity Name: enemies\n",
            "Entity type: OTHER\n",
            "Salience score: 0.08\n",
            "\n",
            "\n",
            "Entity Name: The Avengers\n",
            "Entity type: WORK_OF_ART\n",
            "Salience score: 0.048\n",
            "mid: /g/11f2hl2c8y\n",
            "\n",
            "\n",
            "Entity Name: premium\n",
            "Entity type: OTHER\n",
            "Salience score: 0.031\n",
            "\n",
            "\n",
            "Entity Name: fabrics\n",
            "Entity type: OTHER\n",
            "Salience score: 0.031\n",
            "\n",
            "\n",
            "Entity Name: t-shirts\n",
            "Entity type: CONSUMER_GOOD\n",
            "Salience score: 0.017\n",
            "\n",
            "\n",
            "Entity Name: kids\n",
            "Entity type: PERSON\n",
            "Salience score: 0.017\n",
            "\n",
            "\n",
            "Entity Name: comfort\n",
            "Entity type: OTHER\n",
            "Salience score: 0.015\n",
            "\n",
            "\n",
            "Entity Name: world\n",
            "Entity type: LOCATION\n",
            "Salience score: 0.015\n",
            "\n",
            "\n",
            "Entity Name: clothing\n",
            "Entity type: CONSUMER_GOOD\n",
            "Salience score: 0.013\n",
            "\n",
            "\n",
            "Entity Name: onesies\n",
            "Entity type: OTHER\n",
            "Salience score: 0.011\n",
            "\n",
            "\n",
            "Entity Name: kids\n",
            "Entity type: PERSON\n",
            "Salience score: 0.01\n",
            "\n",
            "\n",
            "Entity Name: superhero kit\n",
            "Entity type: OTHER\n",
            "Salience score: 0.01\n",
            "\n",
            "\n",
            "Entity Name: pjs sets\n",
            "Entity type: OTHER\n",
            "Salience score: 0.01\n",
            "\n",
            "\n",
            "Entity Name: items\n",
            "Entity type: CONSUMER_GOOD\n",
            "Salience score: 0.01\n",
            "\n",
            "\n",
            "Entity Name: quality\n",
            "Entity type: OTHER\n",
            "Salience score: 0.01\n",
            "\n",
            "\n",
            "Entity Name: planet\n",
            "Entity type: LOCATION\n",
            "Salience score: 0.009\n",
            "\n",
            "\n",
            "Entity Name: family business\n",
            "Entity type: OTHER\n",
            "Salience score: 0.009\n",
            "\n",
            "\n",
            "Entity Name: clothing\n",
            "Entity type: CONSUMER_GOOD\n",
            "Salience score: 0.009\n",
            "\n",
            "\n",
            "Entity Name: t-shirts\n",
            "Entity type: CONSUMER_GOOD\n",
            "Salience score: 0.008\n",
            "\n",
            "\n",
            "Entity Name: adults\n",
            "Entity type: PERSON\n",
            "Salience score: 0.008\n",
            "\n",
            "\n",
            "Entity Name: action\n",
            "Entity type: OTHER\n",
            "Salience score: 0.007\n",
            "\n",
            "\n",
            "Entity Name: tops\n",
            "Entity type: OTHER\n",
            "Salience score: 0.007\n",
            "\n",
            "\n",
            "Entity Name: robes\n",
            "Entity type: CONSUMER_GOOD\n",
            "Salience score: 0.007\n",
            "\n",
            "\n",
            "Entity Name: Shop\n",
            "Entity type: LOCATION\n",
            "Salience score: 0.007\n",
            "\n",
            "\n",
            "Entity Name: hands\n",
            "Entity type: OTHER\n",
            "Salience score: 0.006\n",
            "\n",
            "\n",
            "Entity Name: onesies\n",
            "Entity type: OTHER\n",
            "Salience score: 0.006\n",
            "\n",
            "\n",
            "Entity Name: hoodies\n",
            "Entity type: CONSUMER_GOOD\n",
            "Salience score: 0.005\n",
            "\n",
            "\n",
            "Entity Name: wardrobe\n",
            "Entity type: OTHER\n",
            "Salience score: 0.005\n",
            "\n",
            "\n",
            "Entity Name: clothing\n",
            "Entity type: CONSUMER_GOOD\n",
            "Salience score: 0.004\n",
            "\n",
            "\n",
            "Entity Name: pyjamas\n",
            "Entity type: CONSUMER_GOOD\n",
            "Salience score: 0.003\n",
            "\n",
            "\n",
            "Entity Name: taste\n",
            "Entity type: OTHER\n",
            "Salience score: 0.003\n",
            "\n",
            "\n",
            "Entity Name: superhero life\n",
            "Entity type: OTHER\n",
            "Salience score: 0.003\n",
            "\n",
            "\n",
            "Entity Name: range\n",
            "Entity type: OTHER\n",
            "Salience score: 0.003\n",
            "\n",
            "\n"
          ]
        }
      ]
    },
    {
      "cell_type": "markdown",
      "source": [
        "\n",
        "\n",
        "**\"Salience score\"** is a metric of calculated importance in relation to the rest of the text.\n",
        "\n",
        "Entities with **MIDS** indicate Google has strong confidence of understanding and it likely has a comprehensive spot in the Google Knowledge Graph!\n",
        "\n",
        "\n"
      ],
      "metadata": {
        "id": "_2ee_0CysoXj"
      }
    },
    {
      "cell_type": "code",
      "source": [
        "#@title Get and idea of the Sentiment \n",
        "document = types.Document(\n",
        "    content=text_content,\n",
        "    type=enums.Document.Type.PLAIN_TEXT)\n",
        "\n",
        "sentiment = client.analyze_sentiment(document=document).document_sentiment\n",
        "sscore = round(sentiment.score,4)\n",
        "smag = round(sentiment.magnitude,4)\n",
        "\n",
        "if sscore < 1 and sscore < -0.5:\n",
        "  sent_label = \"Very Negative\"\n",
        "elif sscore < 0 and sscore > -0.5:\n",
        "  sent_label = \"Negative\"\n",
        "elif sscore == 0:\n",
        "  sent_label = \"Neutral\"\n",
        "elif sscore > 0.5:\n",
        "  sent_label = \"Very Positive\"\n",
        "elif sscore > 0 and sscore < 0.5:\n",
        "  sent_label = \"Positive\"\n",
        "\n",
        "print('Sentiment Score: {} is {}'.format(sscore,sent_label))\n",
        "\n",
        "predictedY =[sscore] \n",
        "UnlabelledY=[0,1,0]\n",
        "\n",
        "if sscore < 0:\n",
        "    plotcolor = 'red'\n",
        "else:\n",
        "    plotcolor = 'green'\n",
        "\n",
        "plt.scatter(predictedY, np.zeros_like(predictedY),color=plotcolor,s=100)\n",
        "\n",
        "plt.yticks([])\n",
        "plt.subplots_adjust(top=0.9,bottom=0.8)\n",
        "plt.xlim(-1,1)\n",
        "plt.xlabel('Negative                                                            Positive')\n",
        "plt.title(\"Sentiment Attitude Analysis\")\n",
        "plt.show()"
      ],
      "metadata": {
        "colab": {
          "base_uri": "https://localhost:8080/",
          "height": 125
        },
        "id": "7lcyXKwttWkU",
        "outputId": "c8babcf1-3a02-4c3d-8243-c75217520560"
      },
      "execution_count": 6,
      "outputs": [
        {
          "output_type": "stream",
          "name": "stdout",
          "text": [
            "Sentiment Score: 0.5 is Positive\n"
          ]
        },
        {
          "output_type": "display_data",
          "data": {
            "text/plain": [
              "<Figure size 432x288 with 1 Axes>"
            ],
            "image/png": "[encoded data removed]"
          },
          "metadata": {
            "needs_background": "light"
          }
        }
      ]
    },
    {
      "cell_type": "code",
      "source": [
        "#@title Calculate the perceived amount of emotion in a text.\n",
        "if smag > 0 and smag < 1:\n",
        "  sent_m_label = \"No Emotion\"\n",
        "elif smag > 2:\n",
        "  sent_m_label = \"High Emotion\"\n",
        "elif smag > 1 and smag < 2:\n",
        "  sent_m_label = \"Low Emotion\"\n",
        "\n",
        "print('Sentiment Magnitude: {} is {}'.format(smag,sent_m_label))\n",
        "\n",
        "predictedY =[smag] \n",
        "UnlabelledY=[0,1,0]\n",
        "\n",
        "if smag > 0 and smag < 2:\n",
        "    plotcolor = 'red'\n",
        "else:\n",
        "    plotcolor = 'green'\n",
        "\n",
        "plt.scatter(predictedY, np.zeros_like(predictedY),color=plotcolor,s=100)\n",
        "\n",
        "plt.yticks([])\n",
        "plt.subplots_adjust(top=0.9,bottom=0.8)\n",
        "plt.xlim(0,5)\n",
        "plt.xlabel('Low Emotion                                                          High Emotion')\n",
        "plt.title(\"Sentiment Magnitiude Analysis\")\n",
        "plt.show()\n"
      ],
      "metadata": {
        "colab": {
          "base_uri": "https://localhost:8080/",
          "height": 125
        },
        "id": "OTy1givBvjAi",
        "outputId": "008f48a9-4ca3-4f3c-ba19-8fe1f5ea2983"
      },
      "execution_count": 7,
      "outputs": [
        {
          "output_type": "stream",
          "name": "stdout",
          "text": [
            "Sentiment Magnitude: 5.1 is High Emotion\n"
          ]
        },
        {
          "output_type": "display_data",
          "data": {
            "text/plain": [
              "<Figure size 432x288 with 1 Axes>"
            ],
            "image/png": "[encoded data removed]"
          },
          "metadata": {
            "needs_background": "light"
          }
        }
      ]
    },
    {
      "cell_type": "code",
      "source": [
        "#@title Calculate Categorization\n",
        "response = client.classify_text(document)\n",
        "\n",
        "for category in response.categories:\n",
        "    print(u\"Category name: {}\".format(category.name))\n",
        "    print(u\"Confidence: {}%\".format(int(round(category.confidence,3)*100)))"
      ],
      "metadata": {
        "colab": {
          "base_uri": "https://localhost:8080/"
        },
        "id": "an-lJBIfwr7d",
        "outputId": "a9c291b3-870a-4a9e-a71d-bcf193bbad6a"
      },
      "execution_count": 8,
      "outputs": [
        {
          "output_type": "stream",
          "name": "stdout",
          "text": [
            "Category name: /Arts & Entertainment/Comics & Animation/Comics\n",
            "Confidence: 81%\n",
            "Category name: /Shopping/Apparel\n",
            "Confidence: 72%\n"
          ]
        }
      ]
    },
    {
      "cell_type": "markdown",
      "source": [
        "⏬ \n",
        "The NLP will process the text it’s given and try to place it into any number of preset categories where there is a high enough confidence.\n",
        "\n"
      ],
      "metadata": {
        "id": "Avdns2GZxOOv"
      }
    }
  ]
}