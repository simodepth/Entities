{
  "nbformat": 4,
  "nbformat_minor": 0,
  "metadata": {
    "colab": {
      "name": "Benchmark Entity Opportunities",
      "provenance": [],
      "collapsed_sections": [],
      "include_colab_link": true
    },
    "kernelspec": {
      "name": "python3",
      "display_name": "Python 3"
    },
    "language_info": {
      "name": "python"
    }
  },
  "cells": [
    {
      "cell_type": "markdown",
      "metadata": {
        "id": "view-in-github",
        "colab_type": "text"
      },
      "source": [
        "<a href=\"https://colab.research.google.com/github/simodepth/Entities/blob/main/Benchmark_Entity_Opportunities.ipynb\" target=\"_parent\"><img src=\"https://colab.research.google.com/assets/colab-badge.svg\" alt=\"Open In Colab\"/></a>"
      ]
    },
    {
      "cell_type": "markdown",
      "source": [
        "#Run a Competitor Analysis by Entities with Google NLP\n",
        "\n",
        "\n",
        "---\n",
        "\n",
        "**Summary**\n",
        "\n",
        "- Compare entities and their salience between two web pages\n",
        "- Display missing entities between two pages\n"
      ],
      "metadata": {
        "id": "grtaB3DVeKRS"
      }
    },
    {
      "cell_type": "markdown",
      "source": [
        "#Requirements and Assumptions\n",
        "- Python 3 is installed and basic Python syntax understood\n",
        "- Run on Google Colab\n",
        "- Google Cloud Platform account\n",
        "- [NLP API Enabled](https://cloud.google.com/natural-language/docs)\n",
        "- Credentials created (service account) and JSON file downloaded\n",
        "- NLP JSON key API is uploaded **every time you run this script**"
      ],
      "metadata": {
        "id": "LwxECQqod4_Z"
      }
    },
    {
      "cell_type": "markdown",
      "source": [
        "#! Pip Install Missing Packages\n",
        "- **fake_useragent**: for generating a user agent when making a request\n",
        "- **pandas==1.1.2**: that's simply the newest pandas version"
      ],
      "metadata": {
        "id": "RXcRwl31fLII"
      }
    },
    {
      "cell_type": "code",
      "source": [
        "!pip install fake_useragent\n",
        "\n",
        "!pip install pandas==1.1.2"
      ],
      "metadata": {
        "id": "wlmqZGNLEFYc",
        "colab": {
          "base_uri": "https://localhost:8080/"
        },
        "outputId": "fb05a1f4-e182-4cb3-e3f1-ea8143eab655"
      },
      "execution_count": 1,
      "outputs": [
        {
          "output_type": "stream",
          "name": "stdout",
          "text": [
            "Looking in indexes: https://pypi.org/simple, https://us-python.pkg.dev/colab-wheels/public/simple/\n",
            "Collecting fake_useragent\n",
            "  Downloading fake-useragent-0.1.11.tar.gz (13 kB)\n",
            "Building wheels for collected packages: fake-useragent\n",
            "  Building wheel for fake-useragent (setup.py) ... \u001b[?25l\u001b[?25hdone\n",
            "  Created wheel for fake-useragent: filename=fake_useragent-0.1.11-py3-none-any.whl size=13502 sha256=70f8c6cf3b1ae38bea8aa2ca46471a091af3de077ce9e7e865ffa839f1193701\n",
            "  Stored in directory: /root/.cache/pip/wheels/ed/f7/62/50ab6c9a0b5567267ab76a9daa9d06315704209b2c5d032031\n",
            "Successfully built fake-useragent\n",
            "Installing collected packages: fake-useragent\n",
            "Successfully installed fake-useragent-0.1.11\n",
            "Looking in indexes: https://pypi.org/simple, https://us-python.pkg.dev/colab-wheels/public/simple/\n",
            "Collecting pandas==1.1.2\n",
            "  Downloading pandas-1.1.2-cp37-cp37m-manylinux1_x86_64.whl (10.5 MB)\n",
            "\u001b[K     |████████████████████████████████| 10.5 MB 6.9 MB/s \n",
            "\u001b[?25hRequirement already satisfied: pytz>=2017.2 in /usr/local/lib/python3.7/dist-packages (from pandas==1.1.2) (2022.1)\n",
            "Requirement already satisfied: numpy>=1.15.4 in /usr/local/lib/python3.7/dist-packages (from pandas==1.1.2) (1.21.6)\n",
            "Requirement already satisfied: python-dateutil>=2.7.3 in /usr/local/lib/python3.7/dist-packages (from pandas==1.1.2) (2.8.2)\n",
            "Requirement already satisfied: six>=1.5 in /usr/local/lib/python3.7/dist-packages (from python-dateutil>=2.7.3->pandas==1.1.2) (1.15.0)\n",
            "Installing collected packages: pandas\n",
            "  Attempting uninstall: pandas\n",
            "    Found existing installation: pandas 1.3.5\n",
            "    Uninstalling pandas-1.3.5:\n",
            "      Successfully uninstalled pandas-1.3.5\n",
            "Successfully installed pandas-1.1.2\n"
          ]
        }
      ]
    },
    {
      "cell_type": "code",
      "execution_count": null,
      "metadata": {
        "id": "geNZLeSw3uKF"
      },
      "outputs": [],
      "source": [
        "#@title Run Import Modules\n",
        "import os\n",
        "from google.cloud import language_v1\n",
        "from google.cloud.language_v1 import enums\n",
        "\n",
        "from google.cloud import language\n",
        "from google.cloud.language import types\n",
        "\n",
        "import matplotlib.pyplot as plt\n",
        "from matplotlib.pyplot import figure\n",
        "\n",
        "from fake_useragent import UserAgent\n",
        "import requests\n",
        "import pandas as pd\n",
        "import numpy as np"
      ]
    },
    {
      "cell_type": "code",
      "source": [
        "#@title Wrap the JSON-LD key API into a call\n",
        "os.environ['GOOGLE_APPLICATION_CREDENTIALS'] = \"/content/nlp-api-348917-9095c7f4e634.json\"\n"
      ],
      "metadata": {
        "id": "RotlfWY0Uwsx"
      },
      "execution_count": null,
      "outputs": []
    },
    {
      "cell_type": "markdown",
      "source": [
        "#Build NLP Function\n",
        "Since we are using the same process to evaluate both pages we can create a function. This helps reduce redundant code. This function named **processhtml()** shown in the code below will:\n",
        "\n",
        "1. Create a new user agent for the request header\n",
        "2. Make the request to the web page and store the HTML content\n",
        "3. Initialize the Google NLP\n",
        "4. Communicate to Google that you are sending them HTML, rather than plain text\n",
        "5. Send the request to Google NLP\n",
        "6. Store the JSON response\n",
        "7. Convert the JSON into a python dictionary with the entities and salience scores (adjust rounding as needed)\n",
        "8. Convert the keys to lower case (for comparing)\n",
        "9. Return the new dictionary to the main script\n"
      ],
      "metadata": {
        "id": "lDcF9nHjXRfz"
      }
    },
    {
      "cell_type": "code",
      "source": [
        "def processhtml(url):\n",
        "\n",
        "    ua = UserAgent() \n",
        "    headers = { 'User-Agent': ua.chrome } \n",
        "    res = requests.get(url,headers=headers) \n",
        "    html_page = res.text\n",
        "\n",
        "    url_dict = {}\n",
        "\n",
        "    client = language_v1.LanguageServiceClient()\n",
        "\n",
        "    type_ = enums.Document.Type.HTML\n",
        "\n",
        "    language = \"en\"\n",
        "    document = {\"content\": html_page, \"type\": type_, \"language\": language}\n",
        "\n",
        "    encoding_type = enums.EncodingType.UTF8\n",
        "\n",
        "    response = client.analyze_entities(document, encoding_type=encoding_type)\n",
        "\n",
        "    for entity in response.entities:\n",
        "        url_dict[entity.name] = round(entity.salience,4)\n",
        "\n",
        "    url_dict = {k.lower(): v for k, v in url_dict.items()}\n",
        "\n",
        "    return url_dict"
      ],
      "metadata": {
        "id": "m-_uufFcU-jd"
      },
      "execution_count": null,
      "outputs": []
    },
    {
      "cell_type": "markdown",
      "source": [
        "#Process NLP Data and Calculate Salience Difference\n",
        "Now that we have our function we can set the variables storing the web page URLs we want to compare and then send them to the function we have just created."
      ],
      "metadata": {
        "id": "Y_XfFAFeXwsg"
      }
    },
    {
      "cell_type": "code",
      "source": [
        "url1 = \"https://fusionunlimited.co.uk/about-us/\" #@param {type:\"string\"}\n",
        "url2 = \"https://wolfenden.agency/about-us/\" #@param {type:\"string\"} \n",
        "\n",
        "url1_dict = processhtml(url1)\n",
        "url2_dict = processhtml(url2)"
      ],
      "metadata": {
        "id": "inwLyARtU_8y",
        "colab": {
          "base_uri": "https://localhost:8080/"
        },
        "outputId": "d398f215-aa8c-426d-8069-f23ad2e78b95"
      },
      "execution_count": null,
      "outputs": [
        {
          "output_type": "stream",
          "name": "stderr",
          "text": [
            "Error occurred during loading data. Trying to use cache server https://fake-useragent.herokuapp.com/browsers/0.1.11\n",
            "Traceback (most recent call last):\n",
            "  File \"/usr/local/lib/python3.7/dist-packages/fake_useragent/utils.py\", line 154, in load\n",
            "    for item in get_browsers(verify_ssl=verify_ssl):\n",
            "  File \"/usr/local/lib/python3.7/dist-packages/fake_useragent/utils.py\", line 99, in get_browsers\n",
            "    html = html.split('<table class=\"w3-table-all notranslate\">')[1]\n",
            "IndexError: list index out of range\n"
          ]
        }
      ]
    },
    {
      "cell_type": "code",
      "source": [
        "#@title Compare Entities between 2 Webpages \n",
        "df = pd.DataFrame([], columns=['URL 1','URL 2','Difference'])\n",
        "\n",
        "for key in set(url1_dict) & set(url2_dict):\n",
        "    url1_keywordnum = str(url1_dict.get(key,\"n/a\"))\n",
        "    url2_keywordnum = str(url2_dict.get(key,\"n/a\"))\n",
        "    \n",
        "    if url2_keywordnum > url1_keywordnum:\n",
        "        diff = str(round(float(url2_keywordnum) - float(url1_keywordnum),3))\n",
        "    else:\n",
        "        diff = \"0\"\n",
        "\n",
        "    new_row = {'Keyword':key,'URL 1':url1_keywordnum,'URL 2':url2_keywordnum,'Difference':diff}\n",
        "    \n",
        "    df = df.append(new_row, ignore_index=True)\n",
        "\n",
        "print(df.sort_values(by='Difference', ascending=False))"
      ],
      "metadata": {
        "colab": {
          "base_uri": "https://localhost:8080/"
        },
        "cellView": "form",
        "id": "3CLuMlSlWd4b",
        "outputId": "f2321cfb-1753-4a04-9889-0d3ae3404e8a"
      },
      "execution_count": null,
      "outputs": [
        {
          "output_type": "stream",
          "name": "stdout",
          "text": [
            "     URL 1   URL 2 Difference        Keyword\n",
            "7   0.0023  0.0244      0.022       strategy\n",
            "11  0.0028  0.0121      0.009            roi\n",
            "10  0.0063  0.0092      0.003          teams\n",
            "2   0.0184  0.0192      0.001           work\n",
            "0   0.0069  0.0022          0         search\n",
            "17  0.0714  0.0011          0        website\n",
            "27     0.0     0.0          0           2020\n",
            "26  0.0043  0.0013          0             pr\n",
            "25     0.0     0.0          0           2022\n",
            "24  0.0054  0.0025          0        clients\n",
            "23  0.0187  0.0014          0  cookie policy\n",
            "22  0.0184  0.0068          0           home\n",
            "21   0.003  0.0023          0           team\n",
            "20  0.0183  0.0012          0        careers\n",
            "19  0.0023  0.0004          0       linkedin\n",
            "18  0.0019  0.0011          0        content\n",
            "14   0.005  0.0005          0    performance\n",
            "16  0.0017  0.0005          0          touch\n",
            "15  0.0177  0.0019          0     experience\n",
            "1   0.0013  0.0004          0        twitter\n",
            "13  0.0245  0.0013          0       services\n",
            "12  0.0058   0.002          0         agency\n",
            "9   0.0037  0.0022          0       approach\n",
            "8   0.0023  0.0013          0        privacy\n",
            "6   0.0032  0.0021          0        cookies\n",
            "5   0.0047  0.0042          0           ways\n",
            "4   0.0047   0.001          0         people\n",
            "3   0.0023  0.0005          0          email\n",
            "28  0.0052  0.0048          0        experts\n"
          ]
        }
      ]
    },
    {
      "cell_type": "markdown",
      "source": [
        "**Strategy** seems to be an entity found on both pages that are deemed by Google NLP more important on the competitor page against the whole text. \n",
        "\n",
        "**This is a keyword you may want to investigate and consider ways to communicate better on your page.**\n",
        "\n",
        "---\n",
        "\n",
        "\n",
        "\n",
        "📔 URL1 (benchmark) and URL2 (competitor) contain the **salience scores** for each entity for that URL.\n",
        "If your competitor's salience score for a keyword is greater than yours, record the difference\n",
        "\n",
        "\n",
        "---\n",
        "\n",
        "\n",
        "❗ **\"Salience score\"** is a metric of calculated importance in relation to the rest of the text."
      ],
      "metadata": {
        "id": "vDYMDW6TZS9N"
      }
    },
    {
      "cell_type": "code",
      "source": [
        "#@title ⭐️ Find Entity Opportunities from Outranking pages ⭐️\n",
        "diff_lists = set(url2_dict) - set(url1_dict)\n",
        "\n",
        "final_diff = {}\n",
        "\n",
        "for k in diff_lists:\n",
        "  for key,value in url2_dict.items():\n",
        "    if k == key:\n",
        "      final_diff.update({key:value})\n",
        "\n",
        "df = pd.DataFrame(final_diff.items(), columns=['Keyword','Score'])\n",
        "\n",
        "print(df.head(25).sort_values(by='Score', ascending=False))"
      ],
      "metadata": {
        "colab": {
          "base_uri": "https://localhost:8080/"
        },
        "id": "l4kQyK6fbgbT",
        "outputId": "7d63a37e-205e-40f0-fece-ac8da281990d"
      },
      "execution_count": null,
      "outputs": [
        {
          "output_type": "stream",
          "name": "stdout",
          "text": [
            "                 Keyword   Score\n",
            "1                   skin  0.0059\n",
            "8              visibilis  0.0057\n",
            "6                 legacy  0.0037\n",
            "17          pr executive  0.0027\n",
            "10           opportunity  0.0027\n",
            "11     account executive  0.0027\n",
            "18       finance manager  0.0025\n",
            "16  social media manager  0.0025\n",
            "13    marketing director  0.0024\n",
            "3     insight strategist  0.0023\n",
            "2              marketing  0.0016\n",
            "15     marketing cookies  0.0015\n",
            "4                resolve  0.0015\n",
            "19                 staff  0.0015\n",
            "9               insights  0.0013\n",
            "22       cystic fibrosis  0.0013\n",
            "20        matthew larkin  0.0009\n",
            "21           emma barnes  0.0009\n",
            "0            tom corless  0.0009\n",
            "12      sophie madgewick  0.0009\n",
            "14     rhea jasmin zakir  0.0009\n",
            "7            kim rushton  0.0009\n",
            "5         stefano bianco  0.0009\n",
            "24                series  0.0007\n",
            "23                  2011  0.0000\n"
          ]
        }
      ]
    },
    {
      "cell_type": "markdown",
      "source": [
        "This list shows the **top 25 entities by salience on the competitor page BUT MIGHT NOT appear on your page**.\n",
        "\n",
        "This is useful to find entity opportunities as it showcases entities used by your competitor to outrank your page\n",
        "\n",
        "---\n",
        "\n",
        "\n",
        "**⚠️ Entities Opportunities stem from the previous comparison**"
      ],
      "metadata": {
        "id": "m51hz9PpbzcC"
      }
    }
  ]
}